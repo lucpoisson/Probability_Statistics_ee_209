{
 "cells": [
  {
   "cell_type": "code",
   "execution_count": 1,
   "metadata": {},
   "outputs": [],
   "source": [
    "import numpy as np \n",
    "from scipy.stats import norm\n",
    "\n",
    "mu1 = 175\n",
    "mu2 = 160\n",
    "sigma1 = 7\n",
    "sigma2 = 7\n",
    "p1 = 0.5\n",
    "p2 = 0.5\n",
    "\n",
    "def gaussian(x, mu, sigma):\n",
    "    return (1/(sigma*np.sqrt(2*np.pi)))*np.exp(-0.5*((x-mu)/sigma)**2)\n",
    "\n",
    "def gaussian_mixture(x):\n",
    "    return p1*gaussian(x, mu1, sigma1) + p2*gaussian(x, mu2, sigma2)\n",
    "\n",
    "def gaussian_mixture_cdf(x):\n",
    "    return p1*norm.cdf(x, mu1, sigma1) + p2*norm.cdf(x, mu2, sigma2)\n",
    "\n",
    "#  function to compute the probability that the rv is greater than a certain value \"threshold\"\n",
    "def prob_to_be_greater_than(threshold):\n",
    "  return 1 -  gaussian_mixture_cdf(threshold)"
   ]
  },
  {
   "cell_type": "code",
   "execution_count": 2,
   "metadata": {},
   "outputs": [
    {
     "name": "stdout",
     "output_type": "stream",
     "text": [
      "0.661709832697566\n"
     ]
    }
   ],
   "source": [
    "threshold = 162.5\n",
    "p = prob_to_be_greater_than(threshold)\n",
    "print(p)"
   ]
  },
  {
   "cell_type": "code",
   "execution_count": null,
   "metadata": {},
   "outputs": [],
   "source": []
  }
 ],
 "metadata": {
  "kernelspec": {
   "display_name": "base",
   "language": "python",
   "name": "python3"
  },
  "language_info": {
   "codemirror_mode": {
    "name": "ipython",
    "version": 3
   },
   "file_extension": ".py",
   "mimetype": "text/x-python",
   "name": "python",
   "nbconvert_exporter": "python",
   "pygments_lexer": "ipython3",
   "version": "3.8.8"
  }
 },
 "nbformat": 4,
 "nbformat_minor": 2
}
