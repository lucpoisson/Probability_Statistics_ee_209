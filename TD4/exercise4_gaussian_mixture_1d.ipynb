{
 "cells": [
  {
   "cell_type": "code",
   "execution_count": 2,
   "metadata": {},
   "outputs": [],
   "source": [
    "import numpy as np \n",
    "from scipy.stats import norm"
   ]
  },
  {
   "cell_type": "markdown",
   "metadata": {},
   "source": [
    "## Useful functions "
   ]
  },
  {
   "cell_type": "code",
   "execution_count": 3,
   "metadata": {},
   "outputs": [],
   "source": [
    "def gaussian(x, mu, sigma):\n",
    "    return (1/(sigma*np.sqrt(2*np.pi)))*np.exp(-0.5*((x-mu)/sigma)**2)\n",
    "\n",
    "def gaussian_mixture(x):\n",
    "    return p1*gaussian(x, mu1, sigma1) + p2*gaussian(x, mu2, sigma2)\n",
    "\n",
    "def gaussian_mixture_cdf(x):\n",
    "    return p1*norm.cdf(x, mu1, sigma1) + p2*norm.cdf(x, mu2, sigma2)\n",
    "\n",
    "#  function to compute the probability that the rv is greater than a certain value \"threshold\"\n",
    "def prob_to_be_greater_than(threshold):\n",
    "  return 1 -  gaussian_mixture_cdf(threshold)"
   ]
  },
  {
   "cell_type": "markdown",
   "metadata": {},
   "source": [
    "## Defining parameters of the mixture"
   ]
  },
  {
   "cell_type": "code",
   "execution_count": 4,
   "metadata": {},
   "outputs": [],
   "source": [
    "mu1 = 175\n",
    "mu2 = 160\n",
    "sigma1 = 7\n",
    "sigma2 = 7\n",
    "p1 = 0.5\n",
    "p2 = 0.5"
   ]
  },
  {
   "cell_type": "markdown",
   "metadata": {},
   "source": [
    "## Solving Q5"
   ]
  },
  {
   "cell_type": "code",
   "execution_count": 12,
   "metadata": {},
   "outputs": [
    {
     "name": "stdout",
     "output_type": "stream",
     "text": [
      "0.661709832697566\n",
      "The probability that the random variable is greater than 162.5 is 66.17%\n"
     ]
    }
   ],
   "source": [
    "threshold = 162.5\n",
    "p = prob_to_be_greater_than(threshold)\n",
    "print(\"The probability that the random variable is greater than 162.5 is {:.2f}\".format(p*100) + \"%\")"
   ]
  },
  {
   "cell_type": "markdown",
   "metadata": {},
   "source": [
    "## Solving Q6"
   ]
  },
  {
   "cell_type": "code",
   "execution_count": 11,
   "metadata": {},
   "outputs": [
    {
     "name": "stdout",
     "output_type": "stream",
     "text": [
      "0.5\n",
      "The probability that the random variable is greater than 167.5 is 50.00%\n"
     ]
    }
   ],
   "source": [
    "threshold = 167.5\n",
    "p = prob_to_be_greater_than(threshold)\n",
    "print(\"The probability that the random variable is greater than 167.5 is {:.2f}\".format(p*100) + \"%\")"
   ]
  },
  {
   "cell_type": "markdown",
   "metadata": {},
   "source": [
    "## Solving Q8"
   ]
  },
  {
   "cell_type": "code",
   "execution_count": 13,
   "metadata": {},
   "outputs": [
    {
     "name": "stdout",
     "output_type": "stream",
     "text": [
      "The probability that the difference in height is greater than 0 cm is 93.51427661060436 %\n"
     ]
    }
   ],
   "source": [
    "D_mean = mu1 - mu2 \n",
    "D_sigma = np.sqrt(sigma1**2 + sigma2**2)\n",
    "\n",
    "# threshold of height difference \n",
    "height_diff = 0\n",
    "print(f\"The probability that the difference in height is greater than {height_diff} cm is {100 - norm.cdf(height_diff, D_mean, D_sigma)*100} %\")"
   ]
  },
  {
   "cell_type": "code",
   "execution_count": null,
   "metadata": {},
   "outputs": [],
   "source": []
  }
 ],
 "metadata": {
  "kernelspec": {
   "display_name": "base",
   "language": "python",
   "name": "python3"
  },
  "language_info": {
   "codemirror_mode": {
    "name": "ipython",
    "version": 3
   },
   "file_extension": ".py",
   "mimetype": "text/x-python",
   "name": "python",
   "nbconvert_exporter": "python",
   "pygments_lexer": "ipython3",
   "version": "3.8.8"
  }
 },
 "nbformat": 4,
 "nbformat_minor": 2
}
